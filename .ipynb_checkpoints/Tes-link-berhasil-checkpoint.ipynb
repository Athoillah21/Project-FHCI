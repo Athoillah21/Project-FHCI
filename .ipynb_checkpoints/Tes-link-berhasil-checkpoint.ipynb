{
 "cells": [
  {
   "cell_type": "code",
   "execution_count": 85,
   "id": "493d46e2-2ccc-42db-ac22-1e7ff66e0359",
   "metadata": {
    "canvas": {
     "comments": [],
     "componentType": "CodeCell",
     "copiedOriginId": null,
     "diskcache": false,
     "headerColor": "inherit",
     "id": "6974a9c8-c817-44d4-a532-671ea4a9f287",
     "isComponent": false,
     "name": "",
     "parents": []
    },
    "tags": []
   },
   "outputs": [],
   "source": [
    "from selenium import webdriver\n",
    "from selenium.webdriver.common.by import By\n",
    "from bs4 import BeautifulSoup\n",
    "import time\n",
    "import pandas as pd"
   ]
  },
  {
   "cell_type": "code",
   "execution_count": 86,
   "id": "5acbc660-5059-4897-bc09-07a7c05edfca",
   "metadata": {
    "canvas": {
     "comments": [],
     "componentType": "CodeCell",
     "copiedOriginId": null,
     "diskcache": false,
     "headerColor": "inherit",
     "id": "df877dd0-5eea-43e5-a26f-6b7432fb0b74",
     "isComponent": false,
     "name": "",
     "parents": []
    }
   },
   "outputs": [
    {
     "name": "stderr",
     "output_type": "stream",
     "text": [
      "/tmp/ipykernel_760363/2741312587.py:4: DeprecationWarning: executable_path has been deprecated, please pass in a Service object\n",
      "  driver = webdriver.Chrome(executable_path='/home/athoillah/Downloads/chromedriver_linux64/chromedriver')\n"
     ]
    }
   ],
   "source": [
    "url = \"https://rekrutmenbersama.fhcibumn.id/job\"\n",
    "\n",
    "\n",
    "driver = webdriver.Chrome(executable_path='/home/athoillah/Downloads/chromedriver_linux64/chromedriver')\n",
    "driver.get(url)\n",
    "\n",
    "driver.implicitly_wait(30)"
   ]
  },
  {
   "cell_type": "code",
   "execution_count": 87,
   "id": "69a60cda-abff-4933-addf-114719f627e7",
   "metadata": {
    "canvas": {
     "comments": [],
     "componentType": "CodeCell",
     "copiedOriginId": null,
     "diskcache": false,
     "headerColor": "inherit",
     "id": "d4c0d99a-cbb1-4707-a0da-be8d8ff26c1e",
     "isComponent": false,
     "name": "",
     "parents": []
    }
   },
   "outputs": [],
   "source": [
    "jobs_block = driver.find_element(By.XPATH, \"\"\"//*[@id=\"list\"]\"\"\")"
   ]
  },
  {
   "cell_type": "code",
   "execution_count": 97,
   "id": "413b97d7-1fa6-4879-8f5e-4b5d098712d5",
   "metadata": {
    "canvas": {
     "comments": [],
     "componentType": "CodeCell",
     "copiedOriginId": null,
     "diskcache": false,
     "headerColor": "inherit",
     "id": "326b4981-a8b5-4957-bcf9-6bf8b4e4017f",
     "isComponent": false,
     "name": "",
     "parents": []
    }
   },
   "outputs": [],
   "source": [
    "link_list = jobs_block.find_elements(By.TAG_NAME,\"a\")"
   ]
  },
  {
   "cell_type": "code",
   "execution_count": 100,
   "id": "43841ae1-e79b-45a1-ab30-c690667f31ae",
   "metadata": {
    "canvas": {
     "comments": [],
     "componentType": "CodeCell",
     "copiedOriginId": null,
     "diskcache": false,
     "headerColor": "inherit",
     "id": "0c49c006-6602-46b3-b1c6-9a37193a4f7b",
     "isComponent": false,
     "name": "",
     "parents": []
    }
   },
   "outputs": [],
   "source": [
    "# job_list = jobs_block.find_elements(By.TAG_NAME, \"strong\")"
   ]
  },
  {
   "cell_type": "code",
   "execution_count": 104,
   "id": "77740fce-61db-4edd-88f0-01c1896b9402",
   "metadata": {
    "canvas": {
     "comments": [],
     "componentType": "CodeCell",
     "copiedOriginId": null,
     "diskcache": false,
     "headerColor": "inherit",
     "id": "5e6cd197-d798-4158-a7ba-403cc29b1c6f",
     "isComponent": false,
     "name": "",
     "parents": []
    }
   },
   "outputs": [],
   "source": [
    "# company_list = jobs_block.find_elements(By.TAG_NAME, \"small\")"
   ]
  },
  {
   "cell_type": "code",
   "execution_count": 102,
   "id": "b9048207-5cba-417a-8bdd-4c262de88536",
   "metadata": {
    "canvas": {
     "comments": [],
     "componentType": "CodeCell",
     "copiedOriginId": null,
     "diskcache": false,
     "headerColor": "inherit",
     "id": "c9538163-1857-41fa-ab80-373b72194a04",
     "isComponent": false,
     "name": "",
     "parents": []
    }
   },
   "outputs": [],
   "source": [
    "# Jobs = []\n",
    "# for job in job_list:\n",
    "#     job0 = job.get_attribute('innerText')\n",
    "#     Jobs.append(job0)"
   ]
  },
  {
   "cell_type": "code",
   "execution_count": 98,
   "id": "c3a53998-0725-4ed4-aaf4-7b4db674b601",
   "metadata": {
    "canvas": {
     "comments": [],
     "componentType": "CodeCell",
     "copiedOriginId": null,
     "diskcache": false,
     "headerColor": "inherit",
     "id": "5351999d-9f8f-40b0-b57f-d8b869b83e4b",
     "isComponent": false,
     "name": "",
     "parents": []
    }
   },
   "outputs": [],
   "source": [
    "Links = []\n",
    "for link in link_list:\n",
    "    link0 = link.get_attribute('href')\n",
    "    Links.append(link0)"
   ]
  },
  {
   "cell_type": "code",
   "execution_count": 105,
   "id": "30ff6afd-8de9-4eca-89f8-1f7b5cc75d59",
   "metadata": {
    "canvas": {
     "comments": [],
     "componentType": "CodeCell",
     "copiedOriginId": null,
     "diskcache": false,
     "headerColor": "inherit",
     "id": "0162e14a-a397-43f7-b94b-f8e8420dccde",
     "isComponent": false,
     "name": "",
     "parents": []
    }
   },
   "outputs": [],
   "source": [
    "# Company = []\n",
    "# for comp in company_list:\n",
    "#     comp0 = comp.get_attribute('innerText')\n",
    "#     Company.append(comp0)"
   ]
  },
  {
   "cell_type": "code",
   "execution_count": 107,
   "id": "6812a811-2171-433f-a290-a509eee33705",
   "metadata": {
    "canvas": {
     "comments": [],
     "componentType": "CodeCell",
     "copiedOriginId": null,
     "diskcache": false,
     "headerColor": "inherit",
     "id": "a9affc69-468a-4bb0-b8d1-e6443719d992",
     "isComponent": false,
     "name": "",
     "parents": []
    }
   },
   "outputs": [
    {
     "data": {
      "text/plain": [
       "['https://rekrutmenbersama.fhcibumn.id/job/detail/F32617A8126F7846DFF9CF0DF2C4324F',\n",
       " 'https://rekrutmenbersama.fhcibumn.id/job/detail/0AD2FA87F75F7D5A34421A49F0C7B847',\n",
       " 'https://rekrutmenbersama.fhcibumn.id/job/detail/07ECBDD649EF2DFE6576E314AEB7C5FC',\n",
       " 'https://rekrutmenbersama.fhcibumn.id/job/detail/4B5B56707F555A7DC7FDEADC792C846C',\n",
       " 'https://rekrutmenbersama.fhcibumn.id/job/detail/F14A4F2271060EA616C85981A5AF3165',\n",
       " 'https://rekrutmenbersama.fhcibumn.id/job/detail/84036CF360EF566505B07B0596629333',\n",
       " 'https://rekrutmenbersama.fhcibumn.id/job/detail/0BD5C10A4E9DFDC989332399A181A7DE',\n",
       " 'https://rekrutmenbersama.fhcibumn.id/job/detail/10B3CA18588D63FE20C1F4BD8A3569C4',\n",
       " 'https://rekrutmenbersama.fhcibumn.id/job/detail/413BAB3EEA87749B564196C0CAD40E0A',\n",
       " 'https://rekrutmenbersama.fhcibumn.id/job/detail/706A78F4E3DFCC1B23D3C8FEE5A7564A']"
      ]
     },
     "execution_count": 107,
     "metadata": {},
     "output_type": "execute_result"
    }
   ],
   "source": [
    "Links"
   ]
  },
  {
   "cell_type": "code",
   "execution_count": 96,
   "id": "4917e880-7afb-489d-8ff3-4f74e082280e",
   "metadata": {
    "canvas": {
     "comments": [],
     "componentType": "CodeCell",
     "copiedOriginId": null,
     "diskcache": false,
     "headerColor": "inherit",
     "id": "cdca26b4-670f-476a-886b-17c8cc91880f",
     "isComponent": false,
     "name": "",
     "parents": []
    }
   },
   "outputs": [
    {
     "data": {
      "text/plain": [
       "['https://rekrutmenbersama.fhcibumn.id/job/detail/F32617A8126F7846DFF9CF0DF2C4324F',\n",
       " 'https://rekrutmenbersama.fhcibumn.id/job/detail/0AD2FA87F75F7D5A34421A49F0C7B847',\n",
       " 'https://rekrutmenbersama.fhcibumn.id/job/detail/07ECBDD649EF2DFE6576E314AEB7C5FC',\n",
       " 'https://rekrutmenbersama.fhcibumn.id/job/detail/4B5B56707F555A7DC7FDEADC792C846C',\n",
       " 'https://rekrutmenbersama.fhcibumn.id/job/detail/F14A4F2271060EA616C85981A5AF3165',\n",
       " 'https://rekrutmenbersama.fhcibumn.id/job/detail/84036CF360EF566505B07B0596629333',\n",
       " 'https://rekrutmenbersama.fhcibumn.id/job/detail/0BD5C10A4E9DFDC989332399A181A7DE',\n",
       " 'https://rekrutmenbersama.fhcibumn.id/job/detail/10B3CA18588D63FE20C1F4BD8A3569C4',\n",
       " 'https://rekrutmenbersama.fhcibumn.id/job/detail/413BAB3EEA87749B564196C0CAD40E0A',\n",
       " 'https://rekrutmenbersama.fhcibumn.id/job/detail/706A78F4E3DFCC1B23D3C8FEE5A7564A']"
      ]
     },
     "execution_count": 96,
     "metadata": {},
     "output_type": "execute_result"
    }
   ],
   "source": [
    "for i in range(len(links)"
   ]
  },
  {
   "cell_type": "code",
   "execution_count": 65,
   "id": "f3f1a192-4a40-4f7d-a750-f34761d95614",
   "metadata": {
    "canvas": {
     "comments": [],
     "componentType": "CodeCell",
     "copiedOriginId": null,
     "diskcache": false,
     "headerColor": "inherit",
     "id": "5cdd2f1f-9dcf-4498-b08b-8577853e026e",
     "isComponent": false,
     "name": "",
     "parents": []
    }
   },
   "outputs": [
    {
     "data": {
      "text/plain": [
       "'<div id=\"F32617A8126F7846DFF9CF0DF2C4324F\" data-company=\"B35CFFE6E161AA106861CA4A75251902\" class=\"row card-list-vacancy m-0 list--list-item mb-2\">\\n                            <div class=\"col-md-12 center-list-job p-3\" style=\"\">\\n                              <strong id=\"name_vac_F32617A8126F7846DFF9CF0DF2C4324F\" class=\"name\" style=\"margin-bottom: 5px;color:#219BA8\">Staf Teknologi</strong><br>\\n                              <small class=\"\" id=\"name_tenant_F32617A8126F7846DFF9CF0DF2C4324F\">PT Industri Kereta Api (Persero)</small>\\n                              <div class=\"row mt-2\">\\n\\n                                <div class=\"col-md-6 d-flex\">\\n                                  <div class=\"mt-2\"><span class=\"circle\"></span></div>\\n                                  <div>\\n                                    <small class=\"color-grey\">Bidang : </small><br>\\n                                    <small id=\"name_stream_F32617A8126F7846DFF9CF0DF2C4324F\" class=\"job_function\">Developer Information Technology</small>\\n                                  </div>\\n                                </div>\\n                                <div class=\"col-md-6 d-flex\">\\n                                  <div class=\"mt-2\"><span class=\"circle\"></span></div>\\n                                  <div>\\n                                    <small class=\"color-grey\">Jenjang :</small><br>\\n                                    <small id=\"name_jenjang_F32617A8126F7846DFF9CF0DF2C4324F\" class=\"jenjang\">Sarjana S1 / Diploma IV</small>\\n                                  </div>\\n                                </div>\\n                                <div class=\"col-md-12 mt-3 d-flex\">\\n                                  <div class=\"mt-2\"><span class=\"circle\"></span></div>\\n                                  <div>\\n                                    <small class=\"color-grey\">Jurusan :</small><br>\\n                                    <div id=\"group_jurusan_F32617A8126F7846DFF9CF0DF2C4324F\"><small id=\"name_jurusan_F32617A8126F7846DFF9CF0DF2C4324F\" class=\"jurusan\">Teknik Transportasi,&nbsp;Teknik Telekomunikasi,Teknik Tekstil,Teknik Sistem Perkapalan,Teknik Sipil bangunan Gedung,Teknik Sipil (Teknik Sipil SDA),Teknik Sipil,Teknik Robotika,TEKNIK PERTANIAN,Teknik Perkapalan,Teknik Pengolahan Limbah,Teknik Mesin,Teknik Lingkungan,Teknik Komputer,Teknik Kimia,Teknik Informatika,Teknik Industri,Teknik Grafika,Teknik Geoteknik,Teknik geodesi/geodesi,Teknik Fisika,Teknik Eletromedik,Teknik Elektro,Sarjana Teknik</small></div>\\n                                  </div>\\n                                </div>\\n                              </div>\\n                            </div>\\n                            <div class=\"col-md-12 my-auto text-right p-3\" style=\"border-top:solid 1px #cacaca\">\\n                              <span id=\"section_btn_save_F32617A8126F7846DFF9CF0DF2C4324F\"></span>\\n                              <span id=\"section_btn_detail_F32617A8126F7846DFF9CF0DF2C4324F\"><a href=\"https://rekrutmenbersama.fhcibumn.id/job/detail/F32617A8126F7846DFF9CF0DF2C4324F\" class=\"btn btn-success btn-rounded btn-sm pl-4 pr-4\">Detail</a></span>\\n                            </div>\\n                          </div><div id=\"0AD2FA87F75F7D5A34421A49F0C7B847\" data-company=\"B35CFFE6E161AA106861CA4A75251902\" class=\"row card-list-vacancy m-0 list--list-item mb-2\">\\n                            <div class=\"col-md-12 center-list-job p-3\" style=\"\">\\n                              <strong id=\"name_vac_0AD2FA87F75F7D5A34421A49F0C7B847\" class=\"name\" style=\"margin-bottom: 5px;color:#219BA8\">Staf Pengelolaan Proyek</strong><br>\\n                              <small class=\"\" id=\"name_tenant_0AD2FA87F75F7D5A34421A49F0C7B847\">PT Industri Kereta Api (Persero)</small>\\n                              <div class=\"row mt-2\">\\n\\n                                <div class=\"col-md-6 d-flex\">\\n                                  <div class=\"mt-2\"><span class=\"circle\"></span></div>\\n                                  <div>\\n                                    <small class=\"color-grey\">Bidang : </small><br>\\n                                    <small id=\"name_stream_0AD2FA87F75F7D5A34421A49F0C7B847\" class=\"job_function\">Operasi / Produksi / Proyek</small>\\n                                  </div>\\n                                </div>\\n                                <div class=\"col-md-6 d-flex\">\\n                                  <div class=\"mt-2\"><span class=\"circle\"></span></div>\\n                                  <div>\\n                                    <small class=\"color-grey\">Jenjang :</small><br>\\n                                    <small id=\"name_jenjang_0AD2FA87F75F7D5A34421A49F0C7B847\" class=\"jenjang\">Sarjana S1 / Diploma IV</small>\\n                                  </div>\\n                                </div>\\n                                <div class=\"col-md-12 mt-3 d-flex\">\\n                                  <div class=\"mt-2\"><span class=\"circle\"></span></div>\\n                                  <div>\\n                                    <small class=\"color-grey\">Jurusan :</small><br>\\n                                    <div id=\"group_jurusan_0AD2FA87F75F7D5A34421A49F0C7B847\"><small id=\"name_jurusan_0AD2FA87F75F7D5A34421A49F0C7B847\" class=\"jurusan\">Teknik Transportasi,&nbsp;Teknik Telekomunikasi,Teknik Tekstil,Teknik Sistem Perkapalan,Teknik Sipil bangunan Gedung,Teknik Sipil (Teknik Sipil SDA),Teknik Sipil,Teknik Robotika,TEKNIK PERTANIAN,Teknik Perkapalan,Teknik Pengolahan Limbah,Teknik Mesin,Teknik Lingkungan,Teknik Komputer,Teknik Kimia,Teknik Informatika,Teknik Industri,Teknik Grafika,Teknik Geoteknik,Teknik geodesi/geodesi,Teknik Fisika,Teknik Eletromedik,Teknik Elektro,Sarjana Teknik</small></div>\\n                                  </div>\\n                                </div>\\n                              </div>\\n                            </div>\\n                            <div class=\"col-md-12 my-auto text-right p-3\" style=\"border-top:solid 1px #cacaca\">\\n                              <span id=\"section_btn_save_0AD2FA87F75F7D5A34421A49F0C7B847\"></span>\\n                              <span id=\"section_btn_detail_0AD2FA87F75F7D5A34421A49F0C7B847\"><a href=\"https://rekrutmenbersama.fhcibumn.id/job/detail/0AD2FA87F75F7D5A34421A49F0C7B847\" class=\"btn btn-success btn-rounded btn-sm pl-4 pr-4\">Detail</a></span>\\n                            </div>\\n                          </div><div id=\"07ECBDD649EF2DFE6576E314AEB7C5FC\" data-company=\"B35CFFE6E161AA106861CA4A75251902\" class=\"row card-list-vacancy m-0 list--list-item mb-2\">\\n                            <div class=\"col-md-12 center-list-job p-3\" style=\"\">\\n                              <strong id=\"name_vac_07ECBDD649EF2DFE6576E314AEB7C5FC\" class=\"name\" style=\"margin-bottom: 5px;color:#219BA8\">Staf Information Technology</strong><br>\\n                              <small class=\"\" id=\"name_tenant_07ECBDD649EF2DFE6576E314AEB7C5FC\">PT Industri Kereta Api (Persero)</small>\\n                              <div class=\"row mt-2\">\\n\\n                                <div class=\"col-md-6 d-flex\">\\n                                  <div class=\"mt-2\"><span class=\"circle\"></span></div>\\n                                  <div>\\n                                    <small class=\"color-grey\">Bidang : </small><br>\\n                                    <small id=\"name_stream_07ECBDD649EF2DFE6576E314AEB7C5FC\" class=\"job_function\">Digitalisasi and IT</small>\\n                                  </div>\\n                                </div>\\n                                <div class=\"col-md-6 d-flex\">\\n                                  <div class=\"mt-2\"><span class=\"circle\"></span></div>\\n                                  <div>\\n                                    <small class=\"color-grey\">Jenjang :</small><br>\\n                                    <small id=\"name_jenjang_07ECBDD649EF2DFE6576E314AEB7C5FC\" class=\"jenjang\">Sarjana S1 / Diploma IV</small>\\n                                  </div>\\n                                </div>\\n                                <div class=\"col-md-12 mt-3 d-flex\">\\n                                  <div class=\"mt-2\"><span class=\"circle\"></span></div>\\n                                  <div>\\n                                    <small class=\"color-grey\">Jurusan :</small><br>\\n                                    <div id=\"group_jurusan_07ECBDD649EF2DFE6576E314AEB7C5FC\"><small id=\"name_jurusan_07ECBDD649EF2DFE6576E314AEB7C5FC\" class=\"jurusan\">Teknik Transportasi,&nbsp;Teknik Telekomunikasi,Teknik Tekstil,Teknik Sistem Perkapalan,Teknik Sipil bangunan Gedung,Teknik Sipil (Teknik Sipil SDA),Teknik Sipil,Teknik Robotika,TEKNIK PERTANIAN,Teknik Perkapalan,Teknik Pengolahan Limbah,Teknik Mesin,Teknik Lingkungan,Teknik Komputer,Teknik Kimia,Teknik Informatika,Teknik Industri,Teknik Grafika,Teknik Geoteknik,Teknik geodesi/geodesi,Teknik Fisika,Teknik Eletromedik,Teknik Elektro,Sarjana Teknik</small></div>\\n                                  </div>\\n                                </div>\\n                              </div>\\n                            </div>\\n                            <div class=\"col-md-12 my-auto text-right p-3\" style=\"border-top:solid 1px #cacaca\">\\n                              <span id=\"section_btn_save_07ECBDD649EF2DFE6576E314AEB7C5FC\"></span>\\n                              <span id=\"section_btn_detail_07ECBDD649EF2DFE6576E314AEB7C5FC\"><a href=\"https://rekrutmenbersama.fhcibumn.id/job/detail/07ECBDD649EF2DFE6576E314AEB7C5FC\" class=\"btn btn-success btn-rounded btn-sm pl-4 pr-4\">Detail</a></span>\\n                            </div>\\n                          </div><div id=\"4B5B56707F555A7DC7FDEADC792C846C\" data-company=\"B35CFFE6E161AA106861CA4A75251902\" class=\"row card-list-vacancy m-0 list--list-item mb-2\">\\n                            <div class=\"col-md-12 center-list-job p-3\" style=\"\">\\n                              <strong id=\"name_vac_4B5B56707F555A7DC7FDEADC792C846C\" class=\"name\" style=\"margin-bottom: 5px;color:#219BA8\">Staf Quality Control Testing</strong><br>\\n                              <small class=\"\" id=\"name_tenant_4B5B56707F555A7DC7FDEADC792C846C\">PT Industri Kereta Api (Persero)</small>\\n                              <div class=\"row mt-2\">\\n\\n                                <div class=\"col-md-6 d-flex\">\\n                                  <div class=\"mt-2\"><span class=\"circle\"></span></div>\\n                                  <div>\\n                                    <small class=\"color-grey\">Bidang : </small><br>\\n                                    <small id=\"name_stream_4B5B56707F555A7DC7FDEADC792C846C\" class=\"job_function\">Engineering and Maintenance</small>\\n                                  </div>\\n                                </div>\\n                                <div class=\"col-md-6 d-flex\">\\n                                  <div class=\"mt-2\"><span class=\"circle\"></span></div>\\n                                  <div>\\n                                    <small class=\"color-grey\">Jenjang :</small><br>\\n                                    <small id=\"name_jenjang_4B5B56707F555A7DC7FDEADC792C846C\" class=\"jenjang\">Sarjana S1 / Diploma IV</small>\\n                                  </div>\\n                                </div>\\n                                <div class=\"col-md-12 mt-3 d-flex\">\\n                                  <div class=\"mt-2\"><span class=\"circle\"></span></div>\\n                                  <div>\\n                                    <small class=\"color-grey\">Jurusan :</small><br>\\n                                    <div id=\"group_jurusan_4B5B56707F555A7DC7FDEADC792C846C\"><small id=\"name_jurusan_4B5B56707F555A7DC7FDEADC792C846C\" class=\"jurusan\">Teknik Transportasi,&nbsp;Teknik Telekomunikasi,Teknik Tekstil,Teknik Sistem Perkapalan,Teknik Sipil bangunan Gedung,Teknik Sipil (Teknik Sipil SDA),Teknik Sipil,Teknik Robotika,TEKNIK PERTANIAN,Teknik Perkapalan,Teknik Pengolahan Limbah,Teknik Mesin,Teknik Lingkungan,Teknik Komputer,Teknik Kimia,Teknik Informatika,Teknik Industri,Teknik Grafika,Teknik Geoteknik,Teknik geodesi/geodesi,Teknik Fisika,Teknik Eletromedik,Teknik Elektro,Sarjana Teknik</small></div>\\n                                  </div>\\n                                </div>\\n                              </div>\\n                            </div>\\n                            <div class=\"col-md-12 my-auto text-right p-3\" style=\"border-top:solid 1px #cacaca\">\\n                              <span id=\"section_btn_save_4B5B56707F555A7DC7FDEADC792C846C\"></span>\\n                              <span id=\"section_btn_detail_4B5B56707F555A7DC7FDEADC792C846C\"><a href=\"https://rekrutmenbersama.fhcibumn.id/job/detail/4B5B56707F555A7DC7FDEADC792C846C\" class=\"btn btn-success btn-rounded btn-sm pl-4 pr-4\">Detail</a></span>\\n                            </div>\\n                          </div><div id=\"F14A4F2271060EA616C85981A5AF3165\" data-company=\"B35CFFE6E161AA106861CA4A75251902\" class=\"row card-list-vacancy m-0 list--list-item mb-2\">\\n                            <div class=\"col-md-12 center-list-job p-3\" style=\"\">\\n                              <strong id=\"name_vac_F14A4F2271060EA616C85981A5AF3165\" class=\"name\" style=\"margin-bottom: 5px;color:#219BA8\">Staf Purchasing</strong><br>\\n                              <small class=\"\" id=\"name_tenant_F14A4F2271060EA616C85981A5AF3165\">PT Industri Kereta Api (Persero)</small>\\n                              <div class=\"row mt-2\">\\n\\n                                <div class=\"col-md-6 d-flex\">\\n                                  <div class=\"mt-2\"><span class=\"circle\"></span></div>\\n                                  <div>\\n                                    <small class=\"color-grey\">Bidang : </small><br>\\n                                    <small id=\"name_stream_F14A4F2271060EA616C85981A5AF3165\" class=\"job_function\">Logistic / Supply Chain / Asset / GA</small>\\n                                  </div>\\n                                </div>\\n                                <div class=\"col-md-6 d-flex\">\\n                                  <div class=\"mt-2\"><span class=\"circle\"></span></div>\\n                                  <div>\\n                                    <small class=\"color-grey\">Jenjang :</small><br>\\n                                    <small id=\"name_jenjang_F14A4F2271060EA616C85981A5AF3165\" class=\"jenjang\">Sarjana S1 / Diploma IV</small>\\n                                  </div>\\n                                </div>\\n                                <div class=\"col-md-12 mt-3 d-flex\">\\n                                  <div class=\"mt-2\"><span class=\"circle\"></span></div>\\n                                  <div>\\n                                    <small class=\"color-grey\">Jurusan :</small><br>\\n                                    <div id=\"group_jurusan_F14A4F2271060EA616C85981A5AF3165\"><small id=\"name_jurusan_F14A4F2271060EA616C85981A5AF3165\" class=\"jurusan\">Teknik Transportasi,&nbsp;Teknik Telekomunikasi,Teknik Tekstil,Teknik Sistem Perkapalan,Teknik Sipil bangunan Gedung,Teknik Sipil (Teknik Sipil SDA),Teknik Sipil,Teknik Robotika,TEKNIK PERTANIAN,Teknik Perkapalan,Teknik Pengolahan Limbah,Teknik Mesin,Teknik Lingkungan,Teknik Komputer,Teknik Kimia,Teknik Informatika,Teknik Industri,Teknik Grafika,Teknik Geoteknik,Teknik geodesi/geodesi,Teknik Fisika,Teknik Eletromedik,Teknik Elektro,Sarjana Teknik</small></div>\\n                                  </div>\\n                                </div>\\n                              </div>\\n                            </div>\\n                            <div class=\"col-md-12 my-auto text-right p-3\" style=\"border-top:solid 1px #cacaca\">\\n                              <span id=\"section_btn_save_F14A4F2271060EA616C85981A5AF3165\"></span>\\n                              <span id=\"section_btn_detail_F14A4F2271060EA616C85981A5AF3165\"><a href=\"https://rekrutmenbersama.fhcibumn.id/job/detail/F14A4F2271060EA616C85981A5AF3165\" class=\"btn btn-success btn-rounded btn-sm pl-4 pr-4\">Detail</a></span>\\n                            </div>\\n                          </div><div id=\"84036CF360EF566505B07B0596629333\" data-company=\"4F1F910B4B6D912E9811087214281F95\" class=\"row card-list-vacancy m-0 list--list-item mb-2\">\\n                            <div class=\"col-md-12 center-list-job p-3\" style=\"\">\\n                              <strong id=\"name_vac_84036CF360EF566505B07B0596629333\" class=\"name\" style=\"margin-bottom: 5px;color:#219BA8\">Staff Non Management Trainee (Staff Operasional)</strong><br>\\n                              <small class=\"\" id=\"name_tenant_84036CF360EF566505B07B0596629333\">PT Taspen (Persero)</small>\\n                              <div class=\"row mt-2\">\\n\\n                                <div class=\"col-md-6 d-flex\">\\n                                  <div class=\"mt-2\"><span class=\"circle\"></span></div>\\n                                  <div>\\n                                    <small class=\"color-grey\">Bidang : </small><br>\\n                                    <small id=\"name_stream_84036CF360EF566505B07B0596629333\" class=\"job_function\">Bisnis Niaga / Pemasaran</small>\\n                                  </div>\\n                                </div>\\n                                <div class=\"col-md-6 d-flex\">\\n                                  <div class=\"mt-2\"><span class=\"circle\"></span></div>\\n                                  <div>\\n                                    <small class=\"color-grey\">Jenjang :</small><br>\\n                                    <small id=\"name_jenjang_84036CF360EF566505B07B0596629333\" class=\"jenjang\">Diploma III</small>\\n                                  </div>\\n                                </div>\\n                                <div class=\"col-md-12 mt-3 d-flex\">\\n                                  <div class=\"mt-2\"><span class=\"circle\"></span></div>\\n                                  <div>\\n                                    <small class=\"color-grey\">Jurusan :</small><br>\\n                                    <div id=\"group_jurusan_84036CF360EF566505B07B0596629333\"><small id=\"name_jurusan_84036CF360EF566505B07B0596629333\" class=\"jurusan\">Semua Jurusan</small></div>\\n                                  </div>\\n                                </div>\\n                              </div>\\n                            </div>\\n                            <div class=\"col-md-12 my-auto text-right p-3\" style=\"border-top:solid 1px #cacaca\">\\n                              <span id=\"section_btn_save_84036CF360EF566505B07B0596629333\"></span>\\n                              <span id=\"section_btn_detail_84036CF360EF566505B07B0596629333\"><a href=\"https://rekrutmenbersama.fhcibumn.id/job/detail/84036CF360EF566505B07B0596629333\" class=\"btn btn-success btn-rounded btn-sm pl-4 pr-4\">Detail</a></span>\\n                            </div>\\n                          </div><div id=\"0BD5C10A4E9DFDC989332399A181A7DE\" data-company=\"A5329A812E93E665688FD681103E7DB5\" class=\"row card-list-vacancy m-0 list--list-item mb-2\">\\n                            <div class=\"col-md-12 center-list-job p-3\" style=\"\">\\n                              <strong id=\"name_vac_0BD5C10A4E9DFDC989332399A181A7DE\" class=\"name\" style=\"margin-bottom: 5px;color:#219BA8\">Data Analyst</strong><br>\\n                              <small class=\"\" id=\"name_tenant_0BD5C10A4E9DFDC989332399A181A7DE\">PT Waskita Karya (Persero) Tbk</small>\\n                              <div class=\"row mt-2\">\\n\\n                                <div class=\"col-md-6 d-flex\">\\n                                  <div class=\"mt-2\"><span class=\"circle\"></span></div>\\n                                  <div>\\n                                    <small class=\"color-grey\">Bidang : </small><br>\\n                                    <small id=\"name_stream_0BD5C10A4E9DFDC989332399A181A7DE\" class=\"job_function\">Analyst Research</small>\\n                                  </div>\\n                                </div>\\n                                <div class=\"col-md-6 d-flex\">\\n                                  <div class=\"mt-2\"><span class=\"circle\"></span></div>\\n                                  <div>\\n                                    <small class=\"color-grey\">Jenjang :</small><br>\\n                                    <small id=\"name_jenjang_0BD5C10A4E9DFDC989332399A181A7DE\" class=\"jenjang\">Sarjana S1 / Diploma IV</small>\\n                                  </div>\\n                                </div>\\n                                <div class=\"col-md-12 mt-3 d-flex\">\\n                                  <div class=\"mt-2\"><span class=\"circle\"></span></div>\\n                                  <div>\\n                                    <small class=\"color-grey\">Jurusan :</small><br>\\n                                    <div id=\"group_jurusan_0BD5C10A4E9DFDC989332399A181A7DE\"><small id=\"name_jurusan_0BD5C10A4E9DFDC989332399A181A7DE\" class=\"jurusan\">Teknik Informatika,&nbsp;Statistik</small></div>\\n                                  </div>\\n                                </div>\\n                              </div>\\n                            </div>\\n                            <div class=\"col-md-12 my-auto text-right p-3\" style=\"border-top:solid 1px #cacaca\">\\n                              <span id=\"section_btn_save_0BD5C10A4E9DFDC989332399A181A7DE\"></span>\\n                              <span id=\"section_btn_detail_0BD5C10A4E9DFDC989332399A181A7DE\"><a href=\"https://rekrutmenbersama.fhcibumn.id/job/detail/0BD5C10A4E9DFDC989332399A181A7DE\" class=\"btn btn-success btn-rounded btn-sm pl-4 pr-4\">Detail</a></span>\\n                            </div>\\n                          </div><div id=\"10B3CA18588D63FE20C1F4BD8A3569C4\" data-company=\"A5329A812E93E665688FD681103E7DB5\" class=\"row card-list-vacancy m-0 list--list-item mb-2\">\\n                            <div class=\"col-md-12 center-list-job p-3\" style=\"\">\\n                              <strong id=\"name_vac_10B3CA18588D63FE20C1F4BD8A3569C4\" class=\"name\" style=\"margin-bottom: 5px;color:#219BA8\">Data Scientist</strong><br>\\n                              <small class=\"\" id=\"name_tenant_10B3CA18588D63FE20C1F4BD8A3569C4\">PT Waskita Karya (Persero) Tbk</small>\\n                              <div class=\"row mt-2\">\\n\\n                                <div class=\"col-md-6 d-flex\">\\n                                  <div class=\"mt-2\"><span class=\"circle\"></span></div>\\n                                  <div>\\n                                    <small class=\"color-grey\">Bidang : </small><br>\\n                                    <small id=\"name_stream_10B3CA18588D63FE20C1F4BD8A3569C4\" class=\"job_function\">Analyst Research</small>\\n                                  </div>\\n                                </div>\\n                                <div class=\"col-md-6 d-flex\">\\n                                  <div class=\"mt-2\"><span class=\"circle\"></span></div>\\n                                  <div>\\n                                    <small class=\"color-grey\">Jenjang :</small><br>\\n                                    <small id=\"name_jenjang_10B3CA18588D63FE20C1F4BD8A3569C4\" class=\"jenjang\">Sarjana S1 / Diploma IV</small>\\n                                  </div>\\n                                </div>\\n                                <div class=\"col-md-12 mt-3 d-flex\">\\n                                  <div class=\"mt-2\"><span class=\"circle\"></span></div>\\n                                  <div>\\n                                    <small class=\"color-grey\">Jurusan :</small><br>\\n                                    <div id=\"group_jurusan_10B3CA18588D63FE20C1F4BD8A3569C4\"><small id=\"name_jurusan_10B3CA18588D63FE20C1F4BD8A3569C4\" class=\"jurusan\">Teknik Informatika,&nbsp;Statistik</small></div>\\n                                  </div>\\n                                </div>\\n                              </div>\\n                            </div>\\n                            <div class=\"col-md-12 my-auto text-right p-3\" style=\"border-top:solid 1px #cacaca\">\\n                              <span id=\"section_btn_save_10B3CA18588D63FE20C1F4BD8A3569C4\"></span>\\n                              <span id=\"section_btn_detail_10B3CA18588D63FE20C1F4BD8A3569C4\"><a href=\"https://rekrutmenbersama.fhcibumn.id/job/detail/10B3CA18588D63FE20C1F4BD8A3569C4\" class=\"btn btn-success btn-rounded btn-sm pl-4 pr-4\">Detail</a></span>\\n                            </div>\\n                          </div><div id=\"413BAB3EEA87749B564196C0CAD40E0A\" data-company=\"A5329A812E93E665688FD681103E7DB5\" class=\"row card-list-vacancy m-0 list--list-item mb-2\">\\n                            <div class=\"col-md-12 center-list-job p-3\" style=\"\">\\n                              <strong id=\"name_vac_413BAB3EEA87749B564196C0CAD40E0A\" class=\"name\" style=\"margin-bottom: 5px;color:#219BA8\">Sales Marketing</strong><br>\\n                              <small class=\"\" id=\"name_tenant_413BAB3EEA87749B564196C0CAD40E0A\">PT Waskita Karya (Persero) Tbk</small>\\n                              <div class=\"row mt-2\">\\n\\n                                <div class=\"col-md-6 d-flex\">\\n                                  <div class=\"mt-2\"><span class=\"circle\"></span></div>\\n                                  <div>\\n                                    <small class=\"color-grey\">Bidang : </small><br>\\n                                    <small id=\"name_stream_413BAB3EEA87749B564196C0CAD40E0A\" class=\"job_function\">Bisnis Niaga / Pemasaran</small>\\n                                  </div>\\n                                </div>\\n                                <div class=\"col-md-6 d-flex\">\\n                                  <div class=\"mt-2\"><span class=\"circle\"></span></div>\\n                                  <div>\\n                                    <small class=\"color-grey\">Jenjang :</small><br>\\n                                    <small id=\"name_jenjang_413BAB3EEA87749B564196C0CAD40E0A\" class=\"jenjang\">Sarjana S1 / Diploma IV</small>\\n                                  </div>\\n                                </div>\\n                                <div class=\"col-md-12 mt-3 d-flex\">\\n                                  <div class=\"mt-2\"><span class=\"circle\"></span></div>\\n                                  <div>\\n                                    <small class=\"color-grey\">Jurusan :</small><br>\\n                                    <div id=\"group_jurusan_413BAB3EEA87749B564196C0CAD40E0A\"><small id=\"name_jurusan_413BAB3EEA87749B564196C0CAD40E0A\" class=\"jurusan\">Marketing,&nbsp;Ilmu Komunikasi</small></div>\\n                                  </div>\\n                                </div>\\n                              </div>\\n                            </div>\\n                            <div class=\"col-md-12 my-auto text-right p-3\" style=\"border-top:solid 1px #cacaca\">\\n                              <span id=\"section_btn_save_413BAB3EEA87749B564196C0CAD40E0A\"></span>\\n                              <span id=\"section_btn_detail_413BAB3EEA87749B564196C0CAD40E0A\"><a href=\"https://rekrutmenbersama.fhcibumn.id/job/detail/413BAB3EEA87749B564196C0CAD40E0A\" class=\"btn btn-success btn-rounded btn-sm pl-4 pr-4\">Detail</a></span>\\n                            </div>\\n                          </div><div id=\"706A78F4E3DFCC1B23D3C8FEE5A7564A\" data-company=\"A5329A812E93E665688FD681103E7DB5\" class=\"row card-list-vacancy m-0 list--list-item mb-2\">\\n                            <div class=\"col-md-12 center-list-job p-3\" style=\"\">\\n                              <strong id=\"name_vac_706A78F4E3DFCC1B23D3C8FEE5A7564A\" class=\"name\" style=\"margin-bottom: 5px;color:#219BA8\">Staf IT</strong><br>\\n                              <small class=\"\" id=\"name_tenant_706A78F4E3DFCC1B23D3C8FEE5A7564A\">PT Waskita Karya (Persero) Tbk</small>\\n                              <div class=\"row mt-2\">\\n\\n                                <div class=\"col-md-6 d-flex\">\\n                                  <div class=\"mt-2\"><span class=\"circle\"></span></div>\\n                                  <div>\\n                                    <small class=\"color-grey\">Bidang : </small><br>\\n                                    <small id=\"name_stream_706A78F4E3DFCC1B23D3C8FEE5A7564A\" class=\"job_function\">Digitalisasi and IT</small>\\n                                  </div>\\n                                </div>\\n                                <div class=\"col-md-6 d-flex\">\\n                                  <div class=\"mt-2\"><span class=\"circle\"></span></div>\\n                                  <div>\\n                                    <small class=\"color-grey\">Jenjang :</small><br>\\n                                    <small id=\"name_jenjang_706A78F4E3DFCC1B23D3C8FEE5A7564A\" class=\"jenjang\">Sarjana S1 / Diploma IV</small>\\n                                  </div>\\n                                </div>\\n                                <div class=\"col-md-12 mt-3 d-flex\">\\n                                  <div class=\"mt-2\"><span class=\"circle\"></span></div>\\n                                  <div>\\n                                    <small class=\"color-grey\">Jurusan :</small><br>\\n                                    <div id=\"group_jurusan_706A78F4E3DFCC1B23D3C8FEE5A7564A\"><small id=\"name_jurusan_706A78F4E3DFCC1B23D3C8FEE5A7564A\" class=\"jurusan\">Teknik Informatika</small></div>\\n                                  </div>\\n                                </div>\\n                              </div>\\n                            </div>\\n                            <div class=\"col-md-12 my-auto text-right p-3\" style=\"border-top:solid 1px #cacaca\">\\n                              <span id=\"section_btn_save_706A78F4E3DFCC1B23D3C8FEE5A7564A\"></span>\\n                              <span id=\"section_btn_detail_706A78F4E3DFCC1B23D3C8FEE5A7564A\"><a href=\"https://rekrutmenbersama.fhcibumn.id/job/detail/706A78F4E3DFCC1B23D3C8FEE5A7564A\" class=\"btn btn-success btn-rounded btn-sm pl-4 pr-4\">Detail</a></span>\\n                            </div>\\n                          </div>'"
      ]
     },
     "execution_count": 65,
     "metadata": {},
     "output_type": "execute_result"
    }
   ],
   "source": [
    "jobs_block.get_attribute('innerHTML')"
   ]
  },
  {
   "cell_type": "code",
   "execution_count": null,
   "id": "ad2a2861-0a3d-42f3-97b0-ce26b1ed7976",
   "metadata": {
    "canvas": {
     "comments": [],
     "componentType": "CodeCell",
     "copiedOriginId": null,
     "diskcache": false,
     "headerColor": "inherit",
     "id": "8325d27f-0222-4cbf-a1a3-ae932bd42eb0",
     "isComponent": false,
     "name": "",
     "parents": []
    }
   },
   "outputs": [],
   "source": []
  },
  {
   "cell_type": "code",
   "execution_count": 46,
   "id": "b40e8edd-7915-4427-b255-a3d4d2f74c91",
   "metadata": {
    "canvas": {
     "comments": [],
     "componentType": "CodeCell",
     "copiedOriginId": null,
     "diskcache": false,
     "headerColor": "inherit",
     "id": "bfe6591a-fc1f-42e6-bb34-eda7d1181fbf",
     "isComponent": false,
     "name": "",
     "parents": []
    }
   },
   "outputs": [
    {
     "ename": "NoSuchElementException",
     "evalue": "Message: no such element: Unable to locate element: {\"method\":\"css selector\",\"selector\":\"div>div>span>a\"}\n  (Session info: chrome=107.0.5304.110)\nStacktrace:\n#0 0x556a14a9a463 <unknown>\n#1 0x556a1485e8d8 <unknown>\n#2 0x556a1489c43a <unknown>\n#3 0x556a1489c651 <unknown>\n#4 0x556a1488fcc7 <unknown>\n#5 0x556a148bd64d <unknown>\n#6 0x556a1488fba7 <unknown>\n#7 0x556a148bd78e <unknown>\n#8 0x556a148d630f <unknown>\n#9 0x556a148bd443 <unknown>\n#10 0x556a1488e3c5 <unknown>\n#11 0x556a1488f531 <unknown>\n#12 0x556a14aecdce <unknown>\n#13 0x556a14af0192 <unknown>\n#14 0x556a14ad193e <unknown>\n#15 0x556a14af1103 <unknown>\n#16 0x556a14ac4d85 <unknown>\n#17 0x556a14b120a8 <unknown>\n#18 0x556a14b12239 <unknown>\n#19 0x556a14b2d492 <unknown>\n#20 0x7f4ea447ab43 <unknown>\n",
     "output_type": "error",
     "traceback": [
      "\u001b[0;31m---------------------------------------------------------------------------\u001b[0m",
      "\u001b[0;31mNoSuchElementException\u001b[0m                    Traceback (most recent call last)",
      "Input \u001b[0;32mIn [46]\u001b[0m, in \u001b[0;36m<cell line: 3>\u001b[0;34m()\u001b[0m\n\u001b[1;32m      1\u001b[0m links \u001b[38;5;241m=\u001b[39m [] \n\u001b[1;32m      3\u001b[0m \u001b[38;5;28;01mfor\u001b[39;00m job \u001b[38;5;129;01min\u001b[39;00m jobs:\n\u001b[0;32m----> 4\u001b[0m     job_link \u001b[38;5;241m=\u001b[39m \u001b[43mjob\u001b[49m\u001b[38;5;241;43m.\u001b[39;49m\u001b[43mfind_element\u001b[49m\u001b[43m(\u001b[49m\u001b[43mBy\u001b[49m\u001b[38;5;241;43m.\u001b[39;49m\u001b[43mCSS_SELECTOR\u001b[49m\u001b[43m,\u001b[49m\u001b[38;5;124;43m\"\u001b[39;49m\u001b[38;5;124;43mdiv>div>span>a\u001b[39;49m\u001b[38;5;124;43m\"\u001b[39;49m\u001b[43m)\u001b[49m\u001b[38;5;241m.\u001b[39mget_attribute(\u001b[38;5;124m\"\u001b[39m\u001b[38;5;124mhref\u001b[39m\u001b[38;5;124m\"\u001b[39m)\n\u001b[1;32m      5\u001b[0m     links\u001b[38;5;241m.\u001b[39mappend(job_link)\n\u001b[1;32m      7\u001b[0m \u001b[38;5;28mprint\u001b[39m(\u001b[38;5;124m'\u001b[39m\u001b[38;5;124mFound \u001b[39m\u001b[38;5;124m'\u001b[39m \u001b[38;5;241m+\u001b[39m \u001b[38;5;28mstr\u001b[39m(\u001b[38;5;28mlen\u001b[39m(links)) \u001b[38;5;241m+\u001b[39m \u001b[38;5;124m'\u001b[39m\u001b[38;5;124m for job offers\u001b[39m\u001b[38;5;124m'\u001b[39m)\n",
      "File \u001b[0;32m~/venv/ML-1/lib/python3.10/site-packages/selenium/webdriver/remote/webelement.py:419\u001b[0m, in \u001b[0;36mWebElement.find_element\u001b[0;34m(self, by, value)\u001b[0m\n\u001b[1;32m    416\u001b[0m     by \u001b[38;5;241m=\u001b[39m By\u001b[38;5;241m.\u001b[39mCSS_SELECTOR\n\u001b[1;32m    417\u001b[0m     value \u001b[38;5;241m=\u001b[39m \u001b[38;5;124m'\u001b[39m\u001b[38;5;124m[name=\u001b[39m\u001b[38;5;124m\"\u001b[39m\u001b[38;5;132;01m%s\u001b[39;00m\u001b[38;5;124m\"\u001b[39m\u001b[38;5;124m]\u001b[39m\u001b[38;5;124m'\u001b[39m \u001b[38;5;241m%\u001b[39m value\n\u001b[0;32m--> 419\u001b[0m \u001b[38;5;28;01mreturn\u001b[39;00m \u001b[38;5;28;43mself\u001b[39;49m\u001b[38;5;241;43m.\u001b[39;49m\u001b[43m_execute\u001b[49m\u001b[43m(\u001b[49m\u001b[43mCommand\u001b[49m\u001b[38;5;241;43m.\u001b[39;49m\u001b[43mFIND_CHILD_ELEMENT\u001b[49m\u001b[43m,\u001b[49m\n\u001b[1;32m    420\u001b[0m \u001b[43m                     \u001b[49m\u001b[43m{\u001b[49m\u001b[38;5;124;43m\"\u001b[39;49m\u001b[38;5;124;43musing\u001b[39;49m\u001b[38;5;124;43m\"\u001b[39;49m\u001b[43m:\u001b[49m\u001b[43m \u001b[49m\u001b[43mby\u001b[49m\u001b[43m,\u001b[49m\u001b[43m \u001b[49m\u001b[38;5;124;43m\"\u001b[39;49m\u001b[38;5;124;43mvalue\u001b[39;49m\u001b[38;5;124;43m\"\u001b[39;49m\u001b[43m:\u001b[49m\u001b[43m \u001b[49m\u001b[43mvalue\u001b[49m\u001b[43m}\u001b[49m\u001b[43m)\u001b[49m[\u001b[38;5;124m'\u001b[39m\u001b[38;5;124mvalue\u001b[39m\u001b[38;5;124m'\u001b[39m]\n",
      "File \u001b[0;32m~/venv/ML-1/lib/python3.10/site-packages/selenium/webdriver/remote/webelement.py:396\u001b[0m, in \u001b[0;36mWebElement._execute\u001b[0;34m(self, command, params)\u001b[0m\n\u001b[1;32m    394\u001b[0m     params \u001b[38;5;241m=\u001b[39m {}\n\u001b[1;32m    395\u001b[0m params[\u001b[38;5;124m'\u001b[39m\u001b[38;5;124mid\u001b[39m\u001b[38;5;124m'\u001b[39m] \u001b[38;5;241m=\u001b[39m \u001b[38;5;28mself\u001b[39m\u001b[38;5;241m.\u001b[39m_id\n\u001b[0;32m--> 396\u001b[0m \u001b[38;5;28;01mreturn\u001b[39;00m \u001b[38;5;28;43mself\u001b[39;49m\u001b[38;5;241;43m.\u001b[39;49m\u001b[43m_parent\u001b[49m\u001b[38;5;241;43m.\u001b[39;49m\u001b[43mexecute\u001b[49m\u001b[43m(\u001b[49m\u001b[43mcommand\u001b[49m\u001b[43m,\u001b[49m\u001b[43m \u001b[49m\u001b[43mparams\u001b[49m\u001b[43m)\u001b[49m\n",
      "File \u001b[0;32m~/venv/ML-1/lib/python3.10/site-packages/selenium/webdriver/remote/webdriver.py:428\u001b[0m, in \u001b[0;36mWebDriver.execute\u001b[0;34m(self, driver_command, params)\u001b[0m\n\u001b[1;32m    426\u001b[0m response \u001b[38;5;241m=\u001b[39m \u001b[38;5;28mself\u001b[39m\u001b[38;5;241m.\u001b[39mcommand_executor\u001b[38;5;241m.\u001b[39mexecute(driver_command, params)\n\u001b[1;32m    427\u001b[0m \u001b[38;5;28;01mif\u001b[39;00m response:\n\u001b[0;32m--> 428\u001b[0m     \u001b[38;5;28;43mself\u001b[39;49m\u001b[38;5;241;43m.\u001b[39;49m\u001b[43merror_handler\u001b[49m\u001b[38;5;241;43m.\u001b[39;49m\u001b[43mcheck_response\u001b[49m\u001b[43m(\u001b[49m\u001b[43mresponse\u001b[49m\u001b[43m)\u001b[49m\n\u001b[1;32m    429\u001b[0m     response[\u001b[38;5;124m'\u001b[39m\u001b[38;5;124mvalue\u001b[39m\u001b[38;5;124m'\u001b[39m] \u001b[38;5;241m=\u001b[39m \u001b[38;5;28mself\u001b[39m\u001b[38;5;241m.\u001b[39m_unwrap_value(\n\u001b[1;32m    430\u001b[0m         response\u001b[38;5;241m.\u001b[39mget(\u001b[38;5;124m'\u001b[39m\u001b[38;5;124mvalue\u001b[39m\u001b[38;5;124m'\u001b[39m, \u001b[38;5;28;01mNone\u001b[39;00m))\n\u001b[1;32m    431\u001b[0m     \u001b[38;5;28;01mreturn\u001b[39;00m response\n",
      "File \u001b[0;32m~/venv/ML-1/lib/python3.10/site-packages/selenium/webdriver/remote/errorhandler.py:243\u001b[0m, in \u001b[0;36mErrorHandler.check_response\u001b[0;34m(self, response)\u001b[0m\n\u001b[1;32m    241\u001b[0m         alert_text \u001b[38;5;241m=\u001b[39m value[\u001b[38;5;124m'\u001b[39m\u001b[38;5;124malert\u001b[39m\u001b[38;5;124m'\u001b[39m]\u001b[38;5;241m.\u001b[39mget(\u001b[38;5;124m'\u001b[39m\u001b[38;5;124mtext\u001b[39m\u001b[38;5;124m'\u001b[39m)\n\u001b[1;32m    242\u001b[0m     \u001b[38;5;28;01mraise\u001b[39;00m exception_class(message, screen, stacktrace, alert_text)  \u001b[38;5;66;03m# type: ignore[call-arg]  # mypy is not smart enough here\u001b[39;00m\n\u001b[0;32m--> 243\u001b[0m \u001b[38;5;28;01mraise\u001b[39;00m exception_class(message, screen, stacktrace)\n",
      "\u001b[0;31mNoSuchElementException\u001b[0m: Message: no such element: Unable to locate element: {\"method\":\"css selector\",\"selector\":\"div>div>span>a\"}\n  (Session info: chrome=107.0.5304.110)\nStacktrace:\n#0 0x556a14a9a463 <unknown>\n#1 0x556a1485e8d8 <unknown>\n#2 0x556a1489c43a <unknown>\n#3 0x556a1489c651 <unknown>\n#4 0x556a1488fcc7 <unknown>\n#5 0x556a148bd64d <unknown>\n#6 0x556a1488fba7 <unknown>\n#7 0x556a148bd78e <unknown>\n#8 0x556a148d630f <unknown>\n#9 0x556a148bd443 <unknown>\n#10 0x556a1488e3c5 <unknown>\n#11 0x556a1488f531 <unknown>\n#12 0x556a14aecdce <unknown>\n#13 0x556a14af0192 <unknown>\n#14 0x556a14ad193e <unknown>\n#15 0x556a14af1103 <unknown>\n#16 0x556a14ac4d85 <unknown>\n#17 0x556a14b120a8 <unknown>\n#18 0x556a14b12239 <unknown>\n#19 0x556a14b2d492 <unknown>\n#20 0x7f4ea447ab43 <unknown>\n"
     ]
    }
   ],
   "source": []
  },
  {
   "cell_type": "code",
   "execution_count": null,
   "id": "d2dea122-81ef-4e07-a2dc-1a5b17832070",
   "metadata": {
    "canvas": {
     "comments": [],
     "componentType": "CodeCell",
     "copiedOriginId": null,
     "diskcache": false,
     "headerColor": "inherit",
     "id": "af307e7c-7485-4821-92a7-e2d84fdf1560",
     "isComponent": false,
     "name": "",
     "parents": []
    }
   },
   "outputs": [],
   "source": []
  },
  {
   "cell_type": "code",
   "execution_count": null,
   "id": "9396191b-6463-49ba-b7d9-78a2a67fc3c0",
   "metadata": {
    "canvas": {
     "comments": [],
     "componentType": "CodeCell",
     "copiedOriginId": null,
     "diskcache": false,
     "headerColor": "inherit",
     "id": "0c0feba8-2cbd-4a26-8d75-de5bf8c54615",
     "isComponent": false,
     "name": "",
     "parents": []
    }
   },
   "outputs": [],
   "source": []
  }
 ],
 "metadata": {
  "canvas": {
   "colorPalette": [
    "inherit",
    "inherit",
    "inherit",
    "inherit",
    "inherit",
    "inherit",
    "inherit",
    "inherit",
    "inherit",
    "inherit"
   ],
   "parameters": []
  },
  "kernelspec": {
   "display_name": "Python 3 (ipykernel)",
   "language": "python",
   "name": "python3"
  },
  "language_info": {
   "codemirror_mode": {
    "name": "ipython",
    "version": 3
   },
   "file_extension": ".py",
   "mimetype": "text/x-python",
   "name": "python",
   "nbconvert_exporter": "python",
   "pygments_lexer": "ipython3",
   "version": "3.10.6"
  }
 },
 "nbformat": 4,
 "nbformat_minor": 5
}
